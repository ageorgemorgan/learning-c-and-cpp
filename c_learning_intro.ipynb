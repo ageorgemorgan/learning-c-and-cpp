{
 "cells": [
  {
   "cell_type": "markdown",
   "id": "27c5792e-17c9-4ea5-8da1-16179b102b31",
   "metadata": {},
   "source": [
    "# The Basics of Programming in C\n",
    "## *A Living Tutorial With An Eye Towards Scientific Computing*"
   ]
  },
  {
   "cell_type": "markdown",
   "id": "bd323b63-ee91-4ee6-a3a9-82e6026ee45f",
   "metadata": {},
   "source": [
    "Written by Adam George Morgan\n",
    "\n",
    "*Last Updated May 9, 2025*"
   ]
  },
  {
   "cell_type": "markdown",
   "id": "73da8bca-63be-46c2-bab4-0b162c7007e5",
   "metadata": {},
   "source": [
    "The C programming language continues to be an important part of modern consumer and scientific software. The purpose of this notebook is to provide a \"one-stop-shop\" for the essential information needed to write and understand C code. I'm preparing it mostly for self-study, but I hope the content below can helps others as well. \n",
    "\n",
    "This tutorial unashamedly leans into my own biases: \n",
    "1) scientific computing is my primary interest, so I may include or exclude certain features of C that someone interested in commerical software would consider \"essential\";\n",
    "2) Python is my mother tongue when it comes to coding, so much of my discussion focuses on the differences between Python and C. If you're unfamiliar with Python, this notebook may not be the right resource for you (admittedly, if you've successfully launched this tutorial notebook and are reading this message, then you probably know enough Python to appreciate the material).\n",
    "\n",
    "Consider yourself warned!\n",
    "\n",
    "As my understanding of C in particular and coding in general becomes more refined, I'll return to this document and provide updates. Please get in touch with me (say, by opening up a GitHub issue) if you have any concerns with the material here, or suggestions for major improvements.\n",
    "\n",
    "This notebook would not even be possible without Brendan Rius' creation of a C kernel in Jupyter: https://github.com/brendan-rius/jupyter-c-kernel. Thanks Brendan for the excellent work! "
   ]
  },
  {
   "cell_type": "markdown",
   "id": "72f20c95-7dc7-493e-9287-9177c1c7a0f4",
   "metadata": {},
   "source": [
    "### Why Learn C? "
   ]
  },
  {
   "cell_type": "markdown",
   "id": "9c2aaf43-3dc8-42b9-a60d-452dc2ba7ba0",
   "metadata": {},
   "source": [
    "I genuinely love programming in Python, but you can't go your whole life using the same tool for every job. So, what can C do that Python can't? Here are some answers relevant to my own interests. \n",
    "\n",
    "1) *C provides a pathway to writing fast code*. Python is not optimally performant: for instance, Python loops are notoriously slow. While NumPy and SciPy provide many wrappers of battle-tested Fortran codes to mitigate some of these performance issues, the time will probably come when you need to write your own low-level code to achieve good performance. In my experience, the two most common languages used in performant scientific computing codes are Fortran and C++. Since C++ arose as an expansion of C, knowing C can only help you get a better grasp on great codes.\n",
    "2) *C provides a pathway for writing code that runs on faster machines*. Thanks to the power of modern GPUs, high-performance computing (HPC) is no longer the exclusive province of supercomputing clusters. NVIDIA's GPUs can be programmed with the CUDA toolkit which is essentially a C/C++-based interface between CPU and GPU. So, C is helpful for understanding modern HPC (admittedly, Python- and Julia-based versions of CUDA are also supported nowadays).\n",
    "3) *C appears to be everywhere*. It seems like every big project I work with uses some C here and there, and I would like to know what the hell is going on insofar as is possible.\n",
    "4) Finally, *the more languages you know, the better you understand coding in general*. "
   ]
  },
  {
   "cell_type": "markdown",
   "id": "cb900537-cdbf-4a3f-b229-337cffe1fa77",
   "metadata": {},
   "source": [
    "### Other Helpful Resources"
   ]
  },
  {
   "cell_type": "markdown",
   "id": "b3da9960-9720-47ca-9ef7-f9a2eee7f871",
   "metadata": {},
   "source": [
    "-*Guide to Scientific Computing in C++*, ed.2 by Joe Pitt-Francis and Jonathan Whiteley. Springer, 2017.\n",
    "\n",
    "-*Solving PDEs in C++* by Yair Shapira. SIAM, 2006. "
   ]
  },
  {
   "cell_type": "markdown",
   "id": "0602c544-ba32-4cf4-a22f-fb74dcbc5688",
   "metadata": {},
   "source": [
    "### Our First C Program"
   ]
  },
  {
   "cell_type": "markdown",
   "id": "0ecf947a-1562-4401-ac6b-f533e7fe9f15",
   "metadata": {},
   "source": [
    "Let's start with a \"Hello, World!\" program. This will illuminate the basic structure of all C scripts. "
   ]
  },
  {
   "cell_type": "code",
   "execution_count": 1,
   "id": "cb4b6c21-7780-48da-a6a0-a5c5a1190344",
   "metadata": {},
   "outputs": [
    {
     "name": "stdout",
     "output_type": "stream",
     "text": [
      "Hello World!"
     ]
    }
   ],
   "source": [
    "#include <stdio.h>\n",
    "\n",
    "int main() {\n",
    "    printf(\"Hello World!\");\n",
    "    return 0; \n",
    "}"
   ]
  },
  {
   "cell_type": "markdown",
   "id": "5a0f1d41-ab42-4c8e-bc6b-6dcf83c70197",
   "metadata": {},
   "source": [
    "Let's dissect this code snippet. \n",
    "\n",
    "1) The first line (`#include <stdio.h>`) imports a header script (.h file) containing the necessary functions for handling inputs and outputs, including printing. The `io` in the filename is short for \"input/output\". \n",
    "\n",
    "2) You can probably figure out what `printf` does from context (note: it's taken from `stdio.h`), but what is `int main()` doing? The parentheses suggest it's a *function*, but why does it return `0` if the point of the script is just to print \"Hello World!\"? The answer is simply that all $C$ scripts *must* include an `int main()` function returning `0` (and **NOT** `0.`! more on this later). In the same way that `__init__.py` files are integral to Python's directory structure, `int main()` is integral to C's script structure.\n",
    "\n",
    "3) To be clear: `main()` is indeed a function. Note how the `return` statement is placed inside {braces}. \n",
    "\n",
    "4) `int` is short for \"integer\", and specifies the data type of `main()`'s `return` value. In C, you must declare your variables and their data types.\n",
    "\n",
    "5) Note how each statement in the code terminates with a semicolon `;`. Deletion of any one of these semicolons will give a compile error. "
   ]
  },
  {
   "cell_type": "markdown",
   "id": "26a822c0-6e82-4229-812a-37d232d19efe",
   "metadata": {},
   "source": [
    "Strictly speaking, `main()` is a little flexible. You can pass the keyword `void` into `main` to avoid having to give a `return` value: "
   ]
  },
  {
   "cell_type": "code",
   "execution_count": 2,
   "id": "cce90f9e-8a92-4f20-9679-c0cf221922a1",
   "metadata": {},
   "outputs": [
    {
     "name": "stdout",
     "output_type": "stream",
     "text": [
      "Hello World!"
     ]
    }
   ],
   "source": [
    "#include <stdio.h>\n",
    "\n",
    "int main(void) {\n",
    "    printf(\"Hello World!\");\n",
    "}"
   ]
  },
  {
   "cell_type": "markdown",
   "id": "e121abd2-41ae-4aca-922d-14ed031d0edb",
   "metadata": {},
   "source": [
    "Think of `void` as being short for \"void output\". Below, I'll prefer the `void` approach since it always saves us one line of code. "
   ]
  },
  {
   "cell_type": "markdown",
   "id": "d9574c60-41a2-4b8d-872f-b8ea95e9f179",
   "metadata": {},
   "source": [
    "Before moving on, I'll discuss a limitation of the Jupyter C notebook. For a typical Python notebook, the notebook is a \"workspace\" and variables from one block can be called in another. However, in a C notebook each block is treated as an individual script: in particular, it requires a `main()`. "
   ]
  },
  {
   "cell_type": "markdown",
   "id": "e30f0db1-1b31-40c8-bca5-6dbc2a56a0db",
   "metadata": {},
   "source": [
    "### Declaring Variables. Data Types. "
   ]
  },
  {
   "cell_type": "markdown",
   "id": "714258f6-cde9-47e0-bdca-784534e31cf1",
   "metadata": {},
   "source": [
    "In Python, I can instantiate a whole bunch of different sorts of variables without being very careful: I can just type `x = 1` to store the integer `1` in memory, I can type `x = [\"32\", 32.]` to have a list whose elements contain both string and float data types, and so forth. \n",
    "\n",
    "As already mentioned, however, in C you must be more careful. You need to be explicit about data types when you *declare* your variables. Here is an example where we allocate memory for three integers (by declaring them), assign two of them values, and set the third equal to the sum of the first two: "
   ]
  },
  {
   "cell_type": "code",
   "execution_count": 3,
   "id": "9d11b6c9-97c9-40c8-b9db-7774bd99c0e9",
   "metadata": {},
   "outputs": [
    {
     "name": "stdout",
     "output_type": "stream",
     "text": [
      "3"
     ]
    }
   ],
   "source": [
    "#include <stdio.h>\n",
    "\n",
    "int main(void) {\n",
    "    int a, b, c; /* remember, int = integer */\n",
    "    a = 1;\n",
    "    b = 2; \n",
    "    c = a + b;\n",
    "    printf(\"%d\", c); /* %d is a stand-in for an int that comes in the second arg. of printf */\n",
    "}"
   ]
  },
  {
   "cell_type": "markdown",
   "id": "445b778c-f8f7-4502-b524-cddf0e347e4a",
   "metadata": {},
   "source": [
    "Here is a similar code where `a,b` are double-precision floating-point reals: "
   ]
  },
  {
   "cell_type": "code",
   "execution_count": 4,
   "id": "876254e9-a92d-40de-a1a1-f359b95d2690",
   "metadata": {},
   "outputs": [
    {
     "name": "stdout",
     "output_type": "stream",
     "text": [
      "3.300000"
     ]
    }
   ],
   "source": [
    "#include <stdio.h>\n",
    "\n",
    "int main(void) {\n",
    "    double a, b, c; /* double = double-precision floating-point real number */\n",
    "    a = 1.1;\n",
    "    b = 2.2; \n",
    "    c = a + b;\n",
    "    printf(\"%f\", c); /* use %f for printing doubles instead of ints */\n",
    "}"
   ]
  },
  {
   "cell_type": "markdown",
   "id": "626dd927-dee6-4a1e-b815-87012f96c6a3",
   "metadata": {},
   "source": [
    "Often, we'll also have to work with the type `char`: C has no \"basic\" `string` type, but `char` is as close as it gets. "
   ]
  },
  {
   "cell_type": "code",
   "execution_count": 42,
   "id": "64af113e-3694-4619-bf7d-68d563e0b168",
   "metadata": {},
   "outputs": [
    {
     "name": "stdout",
     "output_type": "stream",
     "text": [
      "a \n",
      "b"
     ]
    }
   ],
   "source": [
    "#include <stdio.h>\n",
    "\n",
    "int main(void) {\n",
    "    char a, b;\n",
    "    a = 'a'; /* chars are enclosed by SINGLE quotes ONLY */\n",
    "    b = 'b'; \n",
    "    printf(\"%c \\n\", a); /* use %c for printing chars. Also, \\n means \"new line\" */\n",
    "    printf(\"%c\", b);\n",
    "}"
   ]
  },
  {
   "cell_type": "markdown",
   "id": "3c86204d-dd70-4928-9479-cdcc4fe2cbbb",
   "metadata": {},
   "source": [
    "In each of the above examples, values where assigned to `a,b,c` after they were declared. Below, we'll also see that you can assign a value during declaration. "
   ]
  },
  {
   "cell_type": "markdown",
   "id": "820be4a0-6901-4ee4-ae8a-39c00cb1b52b",
   "metadata": {},
   "source": [
    "In addition to C having fewer data types than Python, it has no option to write custom classes! This is, to my knowledge, a big reason why C++ is more widely used than \"base\" C in the scientific computing world. "
   ]
  },
  {
   "cell_type": "markdown",
   "id": "a32df36f-9be4-43cc-b832-1a7c709690a8",
   "metadata": {},
   "source": [
    "A comment on style: in C, it's typical to use camelCase for names of variables, functions, etc. That is, it's widely considered cleaner to do this"
   ]
  },
  {
   "cell_type": "code",
   "execution_count": 36,
   "id": "a5f068ae-59fd-4596-9ed5-e7952563fb13",
   "metadata": {},
   "outputs": [
    {
     "name": "stdout",
     "output_type": "stream",
     "text": [
      "a \n",
      "b"
     ]
    }
   ],
   "source": [
    "#include <stdio.h>\n",
    "\n",
    "int main(void) {\n",
    "    char myFirstVar, mySecondVar;\n",
    "    myFirstVar = 'a';\n",
    "    mySecondVar = 'b'; \n",
    "    printf(\"%c \\n\", myFirstVar);\n",
    "    printf(\"%c\", mySecondVar);\n",
    "}"
   ]
  },
  {
   "cell_type": "markdown",
   "id": "8dfac249-6416-4921-864c-718d25d65167",
   "metadata": {},
   "source": [
    "and not this "
   ]
  },
  {
   "cell_type": "code",
   "execution_count": 37,
   "id": "e940c9d3-c65c-4529-89b4-f03fae9d7518",
   "metadata": {},
   "outputs": [
    {
     "name": "stdout",
     "output_type": "stream",
     "text": [
      "a \n",
      "b"
     ]
    }
   ],
   "source": [
    "#include <stdio.h>\n",
    "\n",
    "int main(void) {\n",
    "    char my_first_var, my_second_var;\n",
    "    my_first_var = 'a';\n",
    "    my_second_var = 'b'; \n",
    "    printf(\"%c \\n\", my_first_var);\n",
    "    printf(\"%c\", my_second_var);\n",
    "}"
   ]
  },
  {
   "cell_type": "markdown",
   "id": "87c199f9-af00-4020-93c1-25acb31aac79",
   "metadata": {},
   "source": [
    "even though both scripts work and have the same output (I shouldn't have to say that names like `myfirstvar` or `my_First_Var` constitute blasphemy instead of mere style violations). "
   ]
  },
  {
   "cell_type": "markdown",
   "id": "2797cc7b-3d9a-40e6-abbb-0bc31b7aa6bd",
   "metadata": {},
   "source": [
    "### Simple Logical Statements"
   ]
  },
  {
   "cell_type": "markdown",
   "id": "9a17aeb0-5427-458b-b32c-d3841b457118",
   "metadata": {},
   "source": [
    "Here is an example of an `if` statement in C: "
   ]
  },
  {
   "cell_type": "code",
   "execution_count": 18,
   "id": "98010be8-b14b-44e8-a30b-9350ea12cd03",
   "metadata": {},
   "outputs": [
    {
     "name": "stdout",
     "output_type": "stream",
     "text": [
      "I am printing b = 2"
     ]
    }
   ],
   "source": [
    "#include <stdio.h>\n",
    "\n",
    "int main(void) {\n",
    "    int a = 1, b = 2;\n",
    "    if (a > 1) {\n",
    "        printf(\"I am printing a = %d\", a);\n",
    "    } else {\n",
    "        printf(\"I am printing b = %d\", b);\n",
    "    }\n",
    "}"
   ]
  },
  {
   "cell_type": "markdown",
   "id": "3b28c32b-09fd-49e6-9af9-085bb6a128ce",
   "metadata": {},
   "source": [
    "Remember to close any braces you open! "
   ]
  },
  {
   "cell_type": "markdown",
   "id": "f634ba30-0328-4334-b6a1-1aabfa2260be",
   "metadata": {},
   "source": [
    "We can form more complex logical statements using the \"and\" operator `&&` and the \"or\" operator `||`. "
   ]
  },
  {
   "cell_type": "code",
   "execution_count": 22,
   "id": "ed248ab1-2156-473e-a0ca-227d4f603a81",
   "metadata": {},
   "outputs": [
    {
     "name": "stdout",
     "output_type": "stream",
     "text": [
      "I am printing c = 3"
     ]
    }
   ],
   "source": [
    "#include <stdio.h>\n",
    "\n",
    "int main(void) {\n",
    "    int a = 1, b = 2, c = 3;\n",
    "    if (a > 1) {\n",
    "        printf(\"I am printing a = %d\", a);\n",
    "    } else if (b > 1 && c < 3) {\n",
    "        printf(\"I am printing b = %d\", b);\n",
    "    } else if (a > 1 || b == 32 || c > 1) {\n",
    "        printf(\"I am printing c = %d\", c);\n",
    "    } else {\n",
    "        printf(\"I'm all out of ideas!\");\n",
    "    }\n",
    "}"
   ]
  },
  {
   "cell_type": "markdown",
   "id": "ef629c1c-8c79-4458-9b74-5f0a10e46525",
   "metadata": {},
   "source": [
    "C also includes a very handy \"ternary operator\" `statement ? a : b` which returns `a` if `statement` is true and `b` otherwise.  "
   ]
  },
  {
   "cell_type": "code",
   "execution_count": 25,
   "id": "5e376a77-5ca4-4e7d-b7d2-e58ca6cd0c36",
   "metadata": {},
   "outputs": [
    {
     "name": "stdout",
     "output_type": "stream",
     "text": [
      "2"
     ]
    }
   ],
   "source": [
    "#include <stdio.h>\n",
    "\n",
    "int main(void) {\n",
    "    int a = 1, b = 2, c;\n",
    "    c = (a > 1) ? a : b;\n",
    "    printf(\"%d\", c);\n",
    "}"
   ]
  },
  {
   "cell_type": "markdown",
   "id": "6a3b9694-98d6-408e-a3a8-a4110dcf0f8d",
   "metadata": {},
   "source": [
    "**Warning**: C recognizes `0` as \"false\" and `1` as \"true\", but does not have a native boolean data type. If you really want to use boolean datastypes, put `#include <stdbool.h>` into your script. "
   ]
  },
  {
   "cell_type": "markdown",
   "id": "a7cf277a-4dfc-47d7-bfb4-38d2344a50b5",
   "metadata": {},
   "source": [
    "### Loops "
   ]
  },
  {
   "cell_type": "markdown",
   "id": "dd017d54-9867-4d62-93c3-905968226061",
   "metadata": {},
   "source": [
    "The only thing to worry about with `for` loops in C is setting up the index properly. Defining a loop index consists of three statements:\n",
    "\n",
    "1) the index declaration and initialization,\n",
    "2) the range of values the index can take, and\n",
    "3) the rule for incrementing the index between passes through the loop.\n",
    "\n",
    "Here's an example that prints the sum of the first `N = 10` natural numbers (endpoint-inclusive). "
   ]
  },
  {
   "cell_type": "code",
   "execution_count": 32,
   "id": "3ba2d69b-ed06-4b01-84d8-04af7c346f39",
   "metadata": {},
   "outputs": [
    {
     "name": "stdout",
     "output_type": "stream",
     "text": [
      "55"
     ]
    }
   ],
   "source": [
    "#include <stdio.h>\n",
    "\n",
    "int main(void) {\n",
    "    int N = 10, sum = 0;\n",
    "    for (int k = 1; k <= N; k++) { /* \"k++\" = shortcut for \"k = k + 1\" */\n",
    "        sum += k; /* shortcut for \"sum = sum + k\" */\n",
    "    }\n",
    "    printf(\"%d\", sum);\n",
    "}"
   ]
  },
  {
   "cell_type": "markdown",
   "id": "44ff3020-9f18-4962-b96a-e2398fe2497d",
   "metadata": {},
   "source": [
    "The same result can be obtained with a `while` loop, at the cost of turning the index into a global (script-wide) variable: "
   ]
  },
  {
   "cell_type": "code",
   "execution_count": 33,
   "id": "248de87d-5d29-4524-93b1-36fc239160fd",
   "metadata": {},
   "outputs": [
    {
     "name": "stdout",
     "output_type": "stream",
     "text": [
      "55"
     ]
    }
   ],
   "source": [
    "#include <stdio.h>\n",
    "\n",
    "int main(void) {\n",
    "    int N = 10, sum = 0, k = 1;\n",
    "    while (k <= N) {\n",
    "        sum += k;\n",
    "        k++; \n",
    "    }\n",
    "    printf(\"%d\", sum);\n",
    "}"
   ]
  },
  {
   "cell_type": "markdown",
   "id": "63247ac6-4f8f-4d1d-ac9a-09ea0ad77b10",
   "metadata": {},
   "source": [
    "### Functions with Arguments "
   ]
  },
  {
   "cell_type": "markdown",
   "id": "ac52ad32-e310-4216-9f43-13d12fbe61c8",
   "metadata": {},
   "source": [
    "So far, we've see that every C script must include a function `main()`. Defining your own C functions is pretty straightforward for us now that we understand that declarations are imperative: naturally, we must specify the data type of the *inputs* and *outputs* of any function we want to define. Here is an example: "
   ]
  },
  {
   "cell_type": "code",
   "execution_count": 35,
   "id": "3c216b3b-6ba6-4b8e-ae8a-2693c96e9e1a",
   "metadata": {},
   "outputs": [
    {
     "name": "stdout",
     "output_type": "stream",
     "text": [
      "64"
     ]
    }
   ],
   "source": [
    "#include <stdio.h>\n",
    "\n",
    "int myFunc(int n) {\n",
    "    /* Takes in an integer \"n\" and returns \"32 x n\" */\n",
    "    return 32 * n;\n",
    "}\n",
    "\n",
    "int main(void) {\n",
    "    printf(\"%d\", myFunc(2));\n",
    "}"
   ]
  },
  {
   "cell_type": "markdown",
   "id": "f1aac6c6-430c-4127-a786-eecb60a611b7",
   "metadata": {},
   "source": [
    "I emphasize that the custom function `myFunc` is *global*, hence it can be called within `main()`. "
   ]
  },
  {
   "cell_type": "markdown",
   "id": "c799ce6e-b5c0-4723-abf3-148b229e0ae2",
   "metadata": {},
   "source": [
    "### Worked Example: Checkerboard"
   ]
  },
  {
   "cell_type": "markdown",
   "id": "ecb6ff6b-7782-4a7b-8c1c-0852ddd23228",
   "metadata": {},
   "source": [
    "*Based on Chapter 1, Problem 5 in Shapira's book* "
   ]
  },
  {
   "cell_type": "markdown",
   "id": "967a2d12-ecf5-474b-b140-d77ed0938522",
   "metadata": {},
   "source": [
    "Let's put together everything we've learned about logic, loops, and functions to perform a classical coding exercise. The goal is to write a script that prints an 8$\\times$8 \"checkerboard\" where red tiles are represented by the symbol \"+\" and black tiles are represented by the symbol \"-\". We assume that the top-left tile on the board is red. "
   ]
  },
  {
   "cell_type": "markdown",
   "id": "5a492f4e-2dce-4665-8889-0162a3350839",
   "metadata": {},
   "source": [
    "I've chosen to solve this problem by defining two helper functions that tell us what symbol to place in the i,j-th tile of the board. From there, `main()` loops through each tile and determines its symbol. "
   ]
  },
  {
   "cell_type": "code",
   "execution_count": 41,
   "id": "e81162f9-de34-4e08-9bfa-0acc8a2cc16d",
   "metadata": {},
   "outputs": [
    {
     "name": "stdout",
     "output_type": "stream",
     "text": [
      "+ - + - + - + - \n",
      "- + - + - + - + \n",
      "+ - + - + - + - \n",
      "- + - + - + - + \n",
      "+ - + - + - + - \n",
      "- + - + - + - + \n",
      "+ - + - + - + - \n",
      "- + - + - + - + \n"
     ]
    }
   ],
   "source": [
    "#include <stdio.h>\n",
    "\n",
    "int evenAndOdd(int i, int j) {\n",
    "    /* True if first arg is Even and second arg is Odd */\n",
    "    return i % 2 == 0 && j % 2 == 1; /* a % b = a mod b, as in Python */\n",
    "}\n",
    "\n",
    "char boardTile(int i, int j) {\n",
    "    /* Get the i,j ^th tile in the checkerboard */\n",
    "    int evenRowOddColumn = evenAndOdd(i, j);\n",
    "    int oddRowEvenColumn = evenAndOdd(j, i);\n",
    "    return evenRowOddColumn || oddRowEvenColumn ? '-' : '+'; /* Use single quotes for chars! */\n",
    "}\n",
    "\n",
    "int main(void) {\n",
    "    /* Define number of tiles per axis in the checkerboard */\n",
    "    const int N = 8; \n",
    "\n",
    "    /* Fill up the checkerboard one tile at a time*/\n",
    "    for (int i = 0; i < N; i++) {\n",
    "      for (int j = 0; j < N; j++) {\n",
    "        printf(\"%c \", boardTile(i, j)); /* note the white space */\n",
    "\n",
    "        /* Do a linebreak at the end of each row of the board */\n",
    "        if (j == N - 1) {\n",
    "           printf(\"\\n\");\n",
    "        }\n",
    "      }\n",
    "    }\n",
    "}"
   ]
  },
  {
   "cell_type": "markdown",
   "id": "a9749567-bd9a-4c08-b797-3d8767e5d4ef",
   "metadata": {},
   "source": [
    "**WARNING: the stuff below is not polished or even carefully explained, and will be updated in the future!**"
   ]
  },
  {
   "cell_type": "markdown",
   "id": "8e12ffbe-4b26-463b-af09-80d0292a3a38",
   "metadata": {},
   "source": [
    "### Pointers"
   ]
  },
  {
   "cell_type": "code",
   "execution_count": 7,
   "id": "428c5b44-5091-45f9-af05-8affc04559ff",
   "metadata": {},
   "outputs": [
    {
     "name": "stdout",
     "output_type": "stream",
     "text": [
      " Actual result: j = 32, k = -1 \n",
      " Expected result: j = 32, k = -1"
     ]
    }
   ],
   "source": [
    "#include <stdio.h>\n",
    "\n",
    "int main()\n",
    "{\n",
    "    /* Initialize two integer vars */\n",
    "    int j = -1;\n",
    "    int k = 32;\n",
    "\n",
    "    const int j_clone = j;\n",
    "\n",
    "    /* Swap their values using only pointers */\n",
    "    int *p_j, *p_k;\n",
    "\n",
    "    p_j = &j;\n",
    "    p_k = &k;\n",
    "\n",
    "    /* Stage 1: Replace j with k */\n",
    "    *p_j = *p_k;\n",
    "\n",
    "    /* Stage 2: Replace k with original j-value via j_clone */\n",
    "    *p_k = j_clone;\n",
    "\n",
    "    // Check all works as expected.\n",
    "    printf(\" Actual result: j = %d, k = %d \\n \", j, k);\n",
    "    printf(\"Expected result: j = 32, k = -1\");\n",
    "\n",
    "    return 0;\n",
    "}"
   ]
  },
  {
   "cell_type": "markdown",
   "id": "216542e9-080b-43cc-b3cc-4d45b7aa3355",
   "metadata": {},
   "source": [
    "Fun fact: thanks to the `new` keyword, in C++ the above exercise can be done by introducing an auxiliary `int*` instead of the auxiliary `const int` we called `j_clone`. "
   ]
  },
  {
   "cell_type": "markdown",
   "id": "897d8771-d2f9-4483-9728-43e65f00c7b7",
   "metadata": {},
   "source": [
    "### Arrays"
   ]
  },
  {
   "cell_type": "code",
   "execution_count": 8,
   "id": "5c425779-dfa3-4a21-b788-37eb2ba42313",
   "metadata": {},
   "outputs": [
    {
     "name": "stdout",
     "output_type": "stream",
     "text": [
      "0 \n",
      "2140521264 \n",
      "2140521264 \n",
      "1 \n",
      "2140521268 \n",
      "2140521268 \n",
      "2 \n",
      "2140521272 \n",
      "2140521272 \n"
     ]
    }
   ],
   "source": [
    "#include <stdio.h>\n",
    "\n",
    "int main() {\n",
    "    int a[3] = {0, 1, 2};\n",
    "\n",
    "    for (int k = 0; k < 3; k++) {\n",
    "        printf(\"%d \\n\", a[k]);\n",
    "        printf(\"%d \\n\", &a[k]);\n",
    "        printf(\"%d \\n\", a + k);\n",
    "    }\n",
    "\n",
    "    return 0;\n",
    "}"
   ]
  },
  {
   "cell_type": "code",
   "execution_count": 9,
   "id": "a1addab6-a0cd-4fa4-9813-3aecfc2c1bd7",
   "metadata": {},
   "outputs": [
    {
     "name": "stdout",
     "output_type": "stream",
     "text": [
      "0 \n",
      "117417024 \n",
      "117417024 \n",
      "1 \n",
      "117417028 \n",
      "117417028 \n",
      "2 \n",
      "117417032 \n",
      "117417032 \n",
      "3 \n",
      "117417036 \n",
      "117417036 \n",
      "4 \n",
      "117417040 \n",
      "117417040 \n",
      "5 \n",
      "117417044 \n",
      "117417044 \n",
      "6 \n",
      "117417048 \n",
      "117417048 \n",
      "7 \n",
      "117417052 \n",
      "117417052 \n",
      "8 \n",
      "117417056 \n",
      "117417056 \n"
     ]
    }
   ],
   "source": [
    "#include <stdio.h>\n",
    "\n",
    "int main() {\n",
    "    int a[3][3] = {{0, 1, 2}, {3, 4, 5}, {6, 7, 8}};\n",
    "\n",
    "    for (int j = 0; j < 3; j++) {\n",
    "        for (int k = 0; k < 3; k++) {\n",
    "            printf(\"%d \\n\", a[j][k]);\n",
    "            printf(\"%d \\n\", &a[j][k]);\n",
    "            printf(\"%d \\n\", a[j] + k);\n",
    "        }\n",
    "    }\n",
    "\n",
    "    return 0;\n",
    "}"
   ]
  },
  {
   "cell_type": "markdown",
   "id": "71e00a85-1c39-4b66-99fe-3ecc5e04069f",
   "metadata": {},
   "source": [
    "### Worked Example: Pascal's Triangle (adapted from $\\S$ 1.19 in Shapira)\n",
    "\n",
    "The code below spits out the bottom $n\\times n$ slice of Pascal's triangle.  "
   ]
  },
  {
   "cell_type": "code",
   "execution_count": 12,
   "id": "f6e3d2de-14f9-47d7-95e1-90ad30ce8920",
   "metadata": {},
   "outputs": [
    {
     "name": "stdout",
     "output_type": "stream",
     "text": [
      "1 3 6 \n",
      "1 2 3 \n",
      "1 1 1 \n"
     ]
    }
   ],
   "source": [
    "#include <stdio.h>\n",
    "\n",
    "int main() {\n",
    "\n",
    "    const int n = 3;\n",
    "\n",
    "    int a[n][n];\n",
    "\n",
    "    /*Fill the left col and bottom row with 1's */\n",
    "    for (int i=0; i<n; i++) {\n",
    "      a[0][i] = a[i][0] = 1;\n",
    "    }\n",
    "\n",
    "    for (int i=1; i<n; i++) {\n",
    "      for (int j=1; j<n; j++) {\n",
    "        a[i][j] = a[i][j-1] + a[i-1][j];\n",
    "      }\n",
    "    }\n",
    "\n",
    "    for (int i=n-1; i>=0; i--) {\n",
    "      for (int j=0; j<n; j++) {\n",
    "        printf(\"%d \", a[i][j]);\n",
    "        if (j == n-1) {\n",
    "           printf(\"\\n\");\n",
    "        }\n",
    "      }\n",
    "    }\n",
    "    return 0;\n",
    "}"
   ]
  },
  {
   "cell_type": "markdown",
   "id": "4d383be0-7d90-47b0-8e00-b7b353e7d5d2",
   "metadata": {},
   "source": [
    "### Recursion"
   ]
  },
  {
   "cell_type": "code",
   "execution_count": 10,
   "id": "b28f03f9-96ab-4b50-b599-7c22dad050c5",
   "metadata": {},
   "outputs": [
    {
     "name": "stdout",
     "output_type": "stream",
     "text": [
      "2^9 = 512"
     ]
    }
   ],
   "source": [
    "int power(int base, unsigned exp) {\n",
    "    return exp ? base * power(base, exp - 1) : 1;  \n",
    "}\n",
    "\n",
    "#include <stdio.h>\n",
    "\n",
    "int main() {\n",
    "    printf(\"2^9 = %d\", power(2, 9));\n",
    "    return 0;\n",
    "}    "
   ]
  },
  {
   "cell_type": "markdown",
   "id": "6c1f95aa-d086-495f-9d1f-aa6dfbd5a67f",
   "metadata": {},
   "source": [
    "Example: Binary Representation"
   ]
  },
  {
   "cell_type": "code",
   "execution_count": 11,
   "id": "e3044f52-bd74-464e-ae6d-051be5d57e61",
   "metadata": {},
   "outputs": [
    {
     "name": "stdout",
     "output_type": "stream",
     "text": [
      "100"
     ]
    }
   ],
   "source": [
    "#include <stdio.h>\n",
    "\n",
    "void printBinary(int n) {\n",
    "    if (n > 1) { printBinary(n/2); }\n",
    "    printf(\"%d\", n%2);\n",
    "}\n",
    "\n",
    "int main() {\n",
    "    // printBinary(0);\n",
    "    // printBinary(1);\n",
    "    // printBinary(2); \n",
    "    printBinary(4);\n",
    "    //printBinary(32);\n",
    "    return 0;\n",
    "}  "
   ]
  },
  {
   "cell_type": "code",
   "execution_count": null,
   "id": "d61b2075-bc84-443d-8e4c-6e550cfc9e82",
   "metadata": {},
   "outputs": [],
   "source": []
  },
  {
   "cell_type": "code",
   "execution_count": null,
   "id": "cbac1fb2-8b20-4e2d-9ede-c91d559155d7",
   "metadata": {},
   "outputs": [],
   "source": []
  },
  {
   "cell_type": "code",
   "execution_count": null,
   "id": "dc550107-b74b-4d9f-ab05-fd0f1597588d",
   "metadata": {},
   "outputs": [],
   "source": []
  }
 ],
 "metadata": {
  "kernelspec": {
   "display_name": "C",
   "language": "c",
   "name": "c"
  },
  "language_info": {
   "file_extension": ".c",
   "mimetype": "text/plain",
   "name": "c"
  }
 },
 "nbformat": 4,
 "nbformat_minor": 5
}
