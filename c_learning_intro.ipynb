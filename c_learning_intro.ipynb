{
 "cells": [
  {
   "cell_type": "markdown",
   "id": "27c5792e-17c9-4ea5-8da1-16179b102b31",
   "metadata": {},
   "source": [
    "# The Basics of Programming in C\n",
    "## *A Living Tutorial With An Eye Towards Scientific Computing*"
   ]
  },
  {
   "cell_type": "markdown",
   "id": "bd323b63-ee91-4ee6-a3a9-82e6026ee45f",
   "metadata": {},
   "source": [
    "Written by Adam George Morgan\n",
    "\n",
    "*Last Updated May 15, 2025*"
   ]
  },
  {
   "cell_type": "markdown",
   "id": "73da8bca-63be-46c2-bab4-0b162c7007e5",
   "metadata": {},
   "source": [
    "The C programming language continues to be an important part of modern consumer and scientific software. The purpose of this notebook is to provide a \"one-stop-shop\" for the essential information needed to write and understand C code. I'm preparing it mostly for self-study, but I hope the content below can helps others as well. \n",
    "\n",
    "This tutorial unashamedly leans into my own biases: \n",
    "1) scientific computing is my primary interest, so I may exclude certain features of C that someone interested in another discipline like security or commerical software would consider \"essential\";\n",
    "2) Python is my mother tongue when it comes to coding, so much of my discussion focuses on the differences between Python and C. If you're unfamiliar with Python, this notebook may not be the right resource for you (admittedly, if you've successfully launched this tutorial notebook and are reading this message, then you probably know enough Python to appreciate the material).\n",
    "\n",
    "Consider yourself warned!\n",
    "\n",
    "As my understanding of C in particular and coding in general becomes more refined, I'll return to this document and provide updates. Please get in touch with me (say, by opening up a GitHub issue) if you have any concerns with the material here, or suggestions for major improvements.\n",
    "\n",
    "This notebook would not even be possible without Brendan Rius' creation of a C kernel in Jupyter: https://github.com/brendan-rius/jupyter-c-kernel. Thanks Brendan for the excellent work! "
   ]
  },
  {
   "cell_type": "markdown",
   "id": "72f20c95-7dc7-493e-9287-9177c1c7a0f4",
   "metadata": {},
   "source": [
    "### Why Learn C? "
   ]
  },
  {
   "cell_type": "markdown",
   "id": "9c2aaf43-3dc8-42b9-a60d-452dc2ba7ba0",
   "metadata": {},
   "source": [
    "I genuinely love programming in Python, but you can't go your whole life using the same tool for every job. So, what can C do that Python can't? Here are some answers relevant to my own interests. \n",
    "\n",
    "1) *C provides a pathway to writing fast code*. Python is not optimally performant: for instance, Python loops are notoriously slow. While NumPy and SciPy provide many wrappers of battle-tested Fortran codes to mitigate some of these performance issues, the time will probably come when you need to write your own low-level code to achieve good performance. In my experience, the two most common low-level languages used in scientific computing codes are Fortran and C++. Since C++ arose as an expansion of C, knowing C can only help you get a better grasp on great codes (proviso: C++ and C are a lot more distinct than their names suggest, so while C learning supplements C++ learning, it can't replace it).\n",
    "2) *C provides a pathway for writing code that runs on faster machines*. Thanks to the power of modern GPUs, high-performance computing (HPC) is no longer the exclusive province of supercomputing clusters. NVIDIA's GPUs can be programmed with the CUDA toolkit which is essentially a C/C++-based interface between CPU and GPU. So, C is helpful for understanding modern HPC (although Python- and Julia-based versions of CUDA are also supported nowadays, so this argument holds a little less water than the first one).\n",
    "3) *C appears to be everywhere*. It seems like every big project I work with uses some C here and there, and I would like to know what the hell is going on insofar as is possible. \n",
    "4) Finally, *the more languages you know, the better you understand coding in general*. "
   ]
  },
  {
   "cell_type": "markdown",
   "id": "cb900537-cdbf-4a3f-b229-337cffe1fa77",
   "metadata": {},
   "source": [
    "### Other Helpful Resources"
   ]
  },
  {
   "cell_type": "markdown",
   "id": "b3da9960-9720-47ca-9ef7-f9a2eee7f871",
   "metadata": {},
   "source": [
    "-*Modern C for Absolute Beginners* by Slobodan Dmitrović. Apress, 2024. \n",
    "\n",
    "-*Guide to Scientific Computing in C++*, ed. 2 by Joe Pitt-Francis and Jonathan Whiteley. Springer, 2017.\n",
    "\n",
    "-*Solving PDEs in C++* by Yair Shapira. SIAM, 2006. "
   ]
  },
  {
   "cell_type": "markdown",
   "id": "0602c544-ba32-4cf4-a22f-fb74dcbc5688",
   "metadata": {},
   "source": [
    "### Our First C Program"
   ]
  },
  {
   "cell_type": "markdown",
   "id": "0ecf947a-1562-4401-ac6b-f533e7fe9f15",
   "metadata": {},
   "source": [
    "Let's start with a \"Hello, World!\" program. This will illuminate the basic structure of all C scripts. "
   ]
  },
  {
   "cell_type": "code",
   "execution_count": 1,
   "id": "cb4b6c21-7780-48da-a6a0-a5c5a1190344",
   "metadata": {},
   "outputs": [],
   "source": [
    "#include <stdio.h>\n",
    "\n",
    "int main() {\n",
    "    printf(\"Hello World!\");\n",
    "    return 0; \n",
    "}"
   ]
  },
  {
   "cell_type": "markdown",
   "id": "5a0f1d41-ab42-4c8e-bc6b-6dcf83c70197",
   "metadata": {},
   "source": [
    "Let's dissect this code snippet. \n",
    "\n",
    "1) The first line (`#include <stdio.h>`) imports a header script (.h file) containing the necessary functions for handling inputs and outputs, including printing. The `std` in the filename is short for \"standard\", and the `io` is short for \"input/output\". \n",
    "\n",
    "2) You can probably figure out what `printf` does from context (note: it's taken from `stdio.h`), but what is `int main()` doing? The parentheses suggest it's a *function*, but why does it return `0` if the point of the script is just to print \"Hello World!\"? The answer is simply that all C scripts *must* include an `int main()` function returning `0` (and **NOT** `0.`! more on this later). In the same way that `__init__.py` files are integral to Python's directory structure, `int main()` is integral to C's script structure.\n",
    "\n",
    "3) To be clear: `main()` is indeed a function. Note how the `return` statement is placed inside {braces}. \n",
    "\n",
    "4) `int` is short for \"integer\", and specifies the data type of `main()`'s `return` value. In C, you must declare your variables and their data types.\n",
    "\n",
    "5) Note how each statement in the code terminates with a semicolon `;`. Deletion of any one of these semicolons will give a compilation error.\n",
    "\n",
    "6) Unlike in Python, formatting and indenting are *optional*. You can pick from a variety of conventions regarding where braces and line breaks go, and how many spaces to use when indenting. The important thing is to stick with the choice you make and be consistent! In this notebook, we use four-space indents for nested code, keep { opening braces on current lines, and make new lines for } closing braces. "
   ]
  },
  {
   "cell_type": "markdown",
   "id": "26a822c0-6e82-4229-812a-37d232d19efe",
   "metadata": {},
   "source": [
    "Strictly speaking, `main()` is a little flexible. You can pass the keyword `void` into `main` to avoid having to give a `return` value: "
   ]
  },
  {
   "cell_type": "code",
   "execution_count": 2,
   "id": "cce90f9e-8a92-4f20-9679-c0cf221922a1",
   "metadata": {},
   "outputs": [
    {
     "name": "stdout",
     "output_type": "stream",
     "text": [
      "Hello World!"
     ]
    }
   ],
   "source": [
    "#include <stdio.h>\n",
    "\n",
    "int main(void) {\n",
    "    printf(\"Hello World!\");\n",
    "}"
   ]
  },
  {
   "cell_type": "markdown",
   "id": "e121abd2-41ae-4aca-922d-14ed031d0edb",
   "metadata": {},
   "source": [
    "Think of `void` as being short for \"void output\". Below, I'll prefer the `void` approach since it always saves us one line of code. As noted on p.10 of Dmitrović, the `void` approach is also slightly more bug-robust than the `int main() ... return 0;` one. "
   ]
  },
  {
   "cell_type": "markdown",
   "id": "d9574c60-41a2-4b8d-872f-b8ea95e9f179",
   "metadata": {},
   "source": [
    "Before moving on, I'll discuss a limitation of the Jupyter C notebook. For a typical Python notebook, the notebook is a \"workspace\" and variables from one block can be called in another. However, in a C notebook each block is treated as an individual script: in particular, it requires a `main()`. "
   ]
  },
  {
   "cell_type": "markdown",
   "id": "e30f0db1-1b31-40c8-bca5-6dbc2a56a0db",
   "metadata": {},
   "source": [
    "### Declaring Variables. Data Types. "
   ]
  },
  {
   "cell_type": "markdown",
   "id": "714258f6-cde9-47e0-bdca-784534e31cf1",
   "metadata": {},
   "source": [
    "In Python, I can instantiate a whole bunch of different sorts of variables without being very careful: I can just type `x = 1` to store the integer `1` in memory, I can type `x = [\"32\", 32.]` to have a list whose elements contain both string and float data types, and so forth. \n",
    "\n",
    "As already mentioned, however, in C you must be more careful. You need to be explicit about data types when you *declare* your variables. Here is an example where we allocate memory for three integers (by declaring them), assign two of them values, and set the third equal to the sum of the first two: "
   ]
  },
  {
   "cell_type": "code",
   "execution_count": 3,
   "id": "9d11b6c9-97c9-40c8-b9db-7774bd99c0e9",
   "metadata": {},
   "outputs": [
    {
     "name": "stdout",
     "output_type": "stream",
     "text": [
      "3"
     ]
    }
   ],
   "source": [
    "#include <stdio.h>\n",
    "\n",
    "int main(void) {\n",
    "    int a, b, c; /* remember, int = integer */\n",
    "    a = 1;\n",
    "    b = 2; \n",
    "    c = a + b;\n",
    "    printf(\"%d\", c); /* %d is a stand-in for an int that comes in the second arg. of printf */\n",
    "}"
   ]
  },
  {
   "cell_type": "markdown",
   "id": "445b778c-f8f7-4502-b524-cddf0e347e4a",
   "metadata": {},
   "source": [
    "Here is a similar code where `a,b` are double-precision floating-point reals: "
   ]
  },
  {
   "cell_type": "code",
   "execution_count": 4,
   "id": "876254e9-a92d-40de-a1a1-f359b95d2690",
   "metadata": {},
   "outputs": [
    {
     "name": "stdout",
     "output_type": "stream",
     "text": [
      "3.300000"
     ]
    }
   ],
   "source": [
    "#include <stdio.h>\n",
    "\n",
    "int main(void) {\n",
    "    double a, b, c; /* double = double-precision floating-point real number */\n",
    "    a = 1.1;\n",
    "    b = 2.2; \n",
    "    c = a + b;\n",
    "    printf(\"%f\", c); /* use %f for printing doubles instead of ints */\n",
    "}"
   ]
  },
  {
   "cell_type": "markdown",
   "id": "626dd927-dee6-4a1e-b815-87012f96c6a3",
   "metadata": {},
   "source": [
    "Often, we'll also have to work with the type `char`: C has no \"basic\" `string` type, but `char` is as close as it gets. "
   ]
  },
  {
   "cell_type": "code",
   "execution_count": 5,
   "id": "64af113e-3694-4619-bf7d-68d563e0b168",
   "metadata": {},
   "outputs": [
    {
     "name": "stdout",
     "output_type": "stream",
     "text": [
      "a \n",
      "b"
     ]
    }
   ],
   "source": [
    "#include <stdio.h>\n",
    "\n",
    "int main(void) {\n",
    "    char a, b;\n",
    "    a = 'a'; /* chars are enclosed by SINGLE quotes ONLY */\n",
    "    b = 'b'; \n",
    "    printf(\"%c \\n\", a); /* use %c for printing chars. Also, \\n means \"new line\" */\n",
    "    printf(\"%c\", b);\n",
    "}"
   ]
  },
  {
   "cell_type": "markdown",
   "id": "3c86204d-dd70-4928-9479-cdcc4fe2cbbb",
   "metadata": {},
   "source": [
    "In each of the above examples, values where assigned to `a,b,c` after they were declared. Below, we'll also see that you can assign a value during declaration. "
   ]
  },
  {
   "cell_type": "markdown",
   "id": "820be4a0-6901-4ee4-ae8a-39c00cb1b52b",
   "metadata": {},
   "source": [
    "In addition to C having fewer data types than Python, it has no option to write custom classes! This is, to my knowledge, a big reason why C++ is more widely used than \"base\" C in the scientific computing world. "
   ]
  },
  {
   "cell_type": "markdown",
   "id": "a32df36f-9be4-43cc-b832-1a7c709690a8",
   "metadata": {},
   "source": [
    "A comment on style: in C, it's typical to use snake_case for names of variables, functions, etc. That is, it's widely considered cleaner to do this"
   ]
  },
  {
   "cell_type": "code",
   "execution_count": 6,
   "id": "e940c9d3-c65c-4529-89b4-f03fae9d7518",
   "metadata": {},
   "outputs": [
    {
     "name": "stdout",
     "output_type": "stream",
     "text": [
      "a \n",
      "b"
     ]
    }
   ],
   "source": [
    "#include <stdio.h>\n",
    "\n",
    "int main(void) {\n",
    "    char my_first_var, my_second_var;\n",
    "    my_first_var = 'a';\n",
    "    my_second_var = 'b'; \n",
    "    printf(\"%c \\n\", my_first_var);\n",
    "    printf(\"%c\", my_second_var);\n",
    "}"
   ]
  },
  {
   "cell_type": "markdown",
   "id": "8dfac249-6416-4921-864c-718d25d65167",
   "metadata": {},
   "source": [
    "and not this "
   ]
  },
  {
   "cell_type": "code",
   "execution_count": 7,
   "id": "a5f068ae-59fd-4596-9ed5-e7952563fb13",
   "metadata": {},
   "outputs": [
    {
     "name": "stdout",
     "output_type": "stream",
     "text": [
      "a \n",
      "b"
     ]
    }
   ],
   "source": [
    "#include <stdio.h>\n",
    "\n",
    "int main(void) {\n",
    "    char myFirstVar, mySecondVar;\n",
    "    myFirstVar = 'a';\n",
    "    mySecondVar = 'b'; \n",
    "    printf(\"%c \\n\", myFirstVar);\n",
    "    printf(\"%c\", mySecondVar);\n",
    "}"
   ]
  },
  {
   "cell_type": "markdown",
   "id": "87c199f9-af00-4020-93c1-25acb31aac79",
   "metadata": {},
   "source": [
    "even though both scripts work and have the same output (I shouldn't have to say that names like `myfirstvar` or `my_First_Var` constitute blasphemy instead of mere style violations). "
   ]
  },
  {
   "cell_type": "markdown",
   "id": "2797cc7b-3d9a-40e6-abbb-0bc31b7aa6bd",
   "metadata": {},
   "source": [
    "### Simple Logical Statements"
   ]
  },
  {
   "cell_type": "markdown",
   "id": "9a17aeb0-5427-458b-b32c-d3841b457118",
   "metadata": {},
   "source": [
    "Here is an example of an `if` statement in C: "
   ]
  },
  {
   "cell_type": "code",
   "execution_count": 8,
   "id": "98010be8-b14b-44e8-a30b-9350ea12cd03",
   "metadata": {},
   "outputs": [
    {
     "name": "stdout",
     "output_type": "stream",
     "text": [
      "I am printing b = 2"
     ]
    }
   ],
   "source": [
    "#include <stdio.h>\n",
    "\n",
    "int main(void) {\n",
    "    int a = 1, b = 2;\n",
    "    if (a > 1) {\n",
    "        printf(\"I am printing a = %d\", a);\n",
    "    } else {\n",
    "        printf(\"I am printing b = %d\", b);\n",
    "    }\n",
    "}"
   ]
  },
  {
   "cell_type": "markdown",
   "id": "3b28c32b-09fd-49e6-9af9-085bb6a128ce",
   "metadata": {},
   "source": [
    "Remember to close any braces you open! "
   ]
  },
  {
   "cell_type": "markdown",
   "id": "f634ba30-0328-4334-b6a1-1aabfa2260be",
   "metadata": {},
   "source": [
    "We can form more complex logical statements using the \"and\" operator `&&` and the \"or\" operator `||`. "
   ]
  },
  {
   "cell_type": "code",
   "execution_count": 9,
   "id": "ed248ab1-2156-473e-a0ca-227d4f603a81",
   "metadata": {},
   "outputs": [
    {
     "name": "stdout",
     "output_type": "stream",
     "text": [
      "I am printing c = 3"
     ]
    }
   ],
   "source": [
    "#include <stdio.h>\n",
    "\n",
    "int main(void) {\n",
    "    int a = 1, b = 2, c = 3;\n",
    "    if (a > 1) {\n",
    "        printf(\"I am printing a = %d\", a);\n",
    "    } else if (b > 1 && c < 3) {\n",
    "        printf(\"I am printing b = %d\", b);\n",
    "    } else if (a > 1 || b == 32 || c > 1) {\n",
    "        printf(\"I am printing c = %d\", c);\n",
    "    } else {\n",
    "        printf(\"I'm all out of ideas!\");\n",
    "    }\n",
    "}"
   ]
  },
  {
   "cell_type": "markdown",
   "id": "ef629c1c-8c79-4458-9b74-5f0a10e46525",
   "metadata": {},
   "source": [
    "C also includes a very handy \"ternary operator\" `statement ? a : b` which returns `a` if `statement` is true and `b` otherwise.  "
   ]
  },
  {
   "cell_type": "code",
   "execution_count": 10,
   "id": "5e376a77-5ca4-4e7d-b7d2-e58ca6cd0c36",
   "metadata": {},
   "outputs": [
    {
     "name": "stdout",
     "output_type": "stream",
     "text": [
      "2"
     ]
    }
   ],
   "source": [
    "#include <stdio.h>\n",
    "\n",
    "int main(void) {\n",
    "    int a = 1, b = 2, c;\n",
    "    c = (a > 1) ? a : b;\n",
    "    printf(\"%d\", c);\n",
    "}"
   ]
  },
  {
   "cell_type": "markdown",
   "id": "6a3b9694-98d6-408e-a3a8-a4110dcf0f8d",
   "metadata": {},
   "source": [
    "**Warning**: C recognizes `0` as \"false\" and `1` as \"true\", but does not have a native boolean data type. If you really want to use boolean datastypes, put `#include <stdbool.h>` into your script. "
   ]
  },
  {
   "cell_type": "markdown",
   "id": "a7cf277a-4dfc-47d7-bfb4-38d2344a50b5",
   "metadata": {},
   "source": [
    "### Loops "
   ]
  },
  {
   "cell_type": "markdown",
   "id": "dd017d54-9867-4d62-93c3-905968226061",
   "metadata": {},
   "source": [
    "The only thing to worry about with `for` loops in C is setting up the index properly. Defining a loop index consists of three statements:\n",
    "\n",
    "1) the index declaration and initialization,\n",
    "2) the range of values the index can take, and\n",
    "3) the rule for incrementing the index between passes through the loop.\n",
    "\n",
    "Here's an example that prints the sum of the first `N = 10` natural numbers (endpoint-inclusive). "
   ]
  },
  {
   "cell_type": "code",
   "execution_count": 11,
   "id": "3ba2d69b-ed06-4b01-84d8-04af7c346f39",
   "metadata": {},
   "outputs": [
    {
     "name": "stdout",
     "output_type": "stream",
     "text": [
      "55"
     ]
    }
   ],
   "source": [
    "#include <stdio.h>\n",
    "\n",
    "int main(void) {\n",
    "    int N = 10, sum = 0;\n",
    "    for (int k = 1; k <= N; k++) { /* \"k++\" = shortcut for \"k = k + 1\" */\n",
    "        sum += k; /* shortcut for \"sum = sum + k\" */\n",
    "    }\n",
    "    printf(\"%d\", sum);\n",
    "}"
   ]
  },
  {
   "cell_type": "markdown",
   "id": "44ff3020-9f18-4962-b96a-e2398fe2497d",
   "metadata": {},
   "source": [
    "The same result can be obtained with a `while` loop, at the cost of turning the index into a global (script-wide) variable: "
   ]
  },
  {
   "cell_type": "code",
   "execution_count": 12,
   "id": "248de87d-5d29-4524-93b1-36fc239160fd",
   "metadata": {},
   "outputs": [
    {
     "name": "stdout",
     "output_type": "stream",
     "text": [
      "55"
     ]
    }
   ],
   "source": [
    "#include <stdio.h>\n",
    "\n",
    "int main(void) {\n",
    "    int N = 10, sum = 0, k = 1;\n",
    "    while (k <= N) {\n",
    "        sum += k;\n",
    "        k++; \n",
    "    }\n",
    "    printf(\"%d\", sum);\n",
    "}"
   ]
  },
  {
   "cell_type": "markdown",
   "id": "63247ac6-4f8f-4d1d-ac9a-09ea0ad77b10",
   "metadata": {},
   "source": [
    "### Functions with Arguments "
   ]
  },
  {
   "cell_type": "markdown",
   "id": "ac52ad32-e310-4216-9f43-13d12fbe61c8",
   "metadata": {},
   "source": [
    "So far, we've see that every C script must include a function `main()`. Defining your own C functions is pretty straightforward once you understand that declarations are imperative: naturally, we must specify the data type of the *inputs* and *outputs* of any function we want to define. Here is an example: "
   ]
  },
  {
   "cell_type": "code",
   "execution_count": 22,
   "id": "3c216b3b-6ba6-4b8e-ae8a-2693c96e9e1a",
   "metadata": {},
   "outputs": [
    {
     "name": "stdout",
     "output_type": "stream",
     "text": [
      "64"
     ]
    }
   ],
   "source": [
    "#include <stdio.h>\n",
    "\n",
    "int my_func(int n) {\n",
    "    /* Takes in an integer \"n\" and returns \"32 x n\" */\n",
    "    return 32 * n;\n",
    "}\n",
    "\n",
    "int main(void) {\n",
    "    printf(\"%d\", my_func(2));\n",
    "}"
   ]
  },
  {
   "cell_type": "markdown",
   "id": "f1aac6c6-430c-4127-a786-eecb60a611b7",
   "metadata": {},
   "source": [
    "I emphasize that the custom function `my_func` is *global*, hence it can be called within `main()`. "
   ]
  },
  {
   "cell_type": "markdown",
   "id": "c799ce6e-b5c0-4723-abf3-148b229e0ae2",
   "metadata": {},
   "source": [
    "### Worked Example: Checkerboard"
   ]
  },
  {
   "cell_type": "markdown",
   "id": "ecb6ff6b-7782-4a7b-8c1c-0852ddd23228",
   "metadata": {},
   "source": [
    "*Based on Chapter 1, Problem 5 in Shapira's book* "
   ]
  },
  {
   "cell_type": "markdown",
   "id": "967a2d12-ecf5-474b-b140-d77ed0938522",
   "metadata": {},
   "source": [
    "Let's put together everything we've learned about logic, loops, and functions to perform a classical coding exercise. The goal is to write a script that prints an 8$\\times$8 \"checkerboard\" where red tiles are represented by the symbol \"+\" and black tiles are represented by the symbol \"-\". We assume that the top-left tile on the board is red. "
   ]
  },
  {
   "cell_type": "markdown",
   "id": "5a492f4e-2dce-4665-8889-0162a3350839",
   "metadata": {},
   "source": [
    "I've chosen to solve this problem by defining two helper functions that tell us what symbol to place in the i,j-th tile of the board. From there, `main()` loops through each tile and determines its symbol. "
   ]
  },
  {
   "cell_type": "code",
   "execution_count": 23,
   "id": "e81162f9-de34-4e08-9bfa-0acc8a2cc16d",
   "metadata": {},
   "outputs": [
    {
     "name": "stdout",
     "output_type": "stream",
     "text": [
      "+ - + - + - + - \n",
      "- + - + - + - + \n",
      "+ - + - + - + - \n",
      "- + - + - + - + \n",
      "+ - + - + - + - \n",
      "- + - + - + - + \n",
      "+ - + - + - + - \n",
      "- + - + - + - + \n"
     ]
    }
   ],
   "source": [
    "#include <stdio.h>\n",
    "\n",
    "int even_and_odd(int i, int j) {\n",
    "    /* True if first arg is Even and second arg is Odd */\n",
    "    return i % 2 == 0 && j % 2 == 1; /* a % b = a mod b, as in Python */\n",
    "}\n",
    "\n",
    "char board_tile(int i, int j) {\n",
    "    /* Get the i,j ^th tile in the checkerboard */\n",
    "    int even_row_odd_column = even_and_odd(i, j);\n",
    "    int odd_row_even_column = even_and_odd(j, i);\n",
    "    return even_row_odd_column || odd_row_even_column ? '-' : '+'; /* Use single quotes for chars! */\n",
    "}\n",
    "\n",
    "int main(void) {\n",
    "    /* Define number of tiles per axis in the checkerboard */\n",
    "    const int n = 8; \n",
    "\n",
    "    /* Fill up the checkerboard one tile at a time*/\n",
    "    for (int i = 0; i < n; i++) {\n",
    "      for (int j = 0; j < n; j++) {\n",
    "        printf(\"%c \", board_tile(i, j)); /* note the white space */\n",
    "\n",
    "        /* Do a linebreak at the end of each row of the board */\n",
    "        if (j == n - 1) {\n",
    "           printf(\"\\n\");\n",
    "        }\n",
    "      }\n",
    "    }\n",
    "}"
   ]
  },
  {
   "cell_type": "markdown",
   "id": "8e12ffbe-4b26-463b-af09-80d0292a3a38",
   "metadata": {},
   "source": [
    "### Addresses and Pointers"
   ]
  },
  {
   "cell_type": "markdown",
   "id": "d142a928-29e9-4e23-8368-0cb73a44ba3c",
   "metadata": {},
   "source": [
    "C provides much more fine-grained control over memory usage than Python. We've seen this idea appear in practice already: our C variables need to be *declared*. Declarations, however, are only the tip of the iceberg. For practical reasons that will become clear soon, one often needs to know the location (or \"address\") of a given variable `x` in memory. Given `x`, we can immediately determine its address using the operator `&`, as the script below demonstrates. "
   ]
  },
  {
   "cell_type": "code",
   "execution_count": 15,
   "id": "164cf485-73aa-41d4-8b28-0763ce8e3a89",
   "metadata": {},
   "outputs": [
    {
     "name": "stdout",
     "output_type": "stream",
     "text": [
      "The value of x is 7.890000 \n",
      "The address of x in memory is -1294600008"
     ]
    }
   ],
   "source": [
    "#include <stdio.h>\n",
    "\n",
    "int main(void) {\n",
    "    double x = 7.89; \n",
    "    \n",
    "    printf(\"The value of x is %f \\n\", x); \n",
    "    printf(\"The address of x in memory is %d\", &x); \n",
    "}"
   ]
  },
  {
   "cell_type": "markdown",
   "id": "4538a8bb-a5db-449f-8ab7-5cbf3b931749",
   "metadata": {},
   "source": [
    "There are a few things to note here. \n",
    "\n",
    "1) While `x` is a `double`, `&x` is an `int`.\n",
    "2) If you run the code box several times, the value of `&x` changes.\n",
    "\n",
    "What's going on here? \n",
    "\n",
    "The computer has a finite number of bytes available in its memory at any given time. Each of these bytes can be labelled with an integer index, making this index the \"address\" of the particular byte. When the script above is run, the computer figures out an address where it can store the value of the `double x`. This address is almost guaranteed to change when the script is re-run: the byte we used on the previous run has probably been re-assigned to help with other tasks occupying the computer (automatically checking for software updates, for example). So, the output from the code block above *does make sense*!"
   ]
  },
  {
   "cell_type": "markdown",
   "id": "6f025442-090c-4ce6-9833-b5fdfd45e8e7",
   "metadata": {},
   "source": [
    "A **pointer** is a variable that stores the address of some other variable. For example, if we initialize an integer \n",
    "`int x = 2`, then the variable `p_x` defined by `int *p_x = &x` (or: `int* p_x = &x`) is a pointer containing the address of `x`. We then say that `p_x` \"points to `x`\". "
   ]
  },
  {
   "cell_type": "markdown",
   "id": "161d2bdf-be84-409a-a41d-c156a4f50138",
   "metadata": {},
   "source": [
    "If `p_x` is any pointer, we can access the value of the variable `p_x` points to using `*p_x`. That is, the operator `*` acting on pointers is the inverse of the operator `&` acting on \"normal\" variables. "
   ]
  },
  {
   "cell_type": "markdown",
   "id": "86d27b60-1853-480c-9bf5-6e1c577bf398",
   "metadata": {},
   "source": [
    "Let's put the discussion from the previous two boxes into practice with a very basic script. "
   ]
  },
  {
   "cell_type": "code",
   "execution_count": 16,
   "id": "2894fc27-6272-4b06-aaee-09baa38cb861",
   "metadata": {},
   "outputs": [
    {
     "name": "stdout",
     "output_type": "stream",
     "text": [
      "The value p_x points to is 2. \n",
      "The address of x (equivalently, the value of p_x itself) is -2099371724."
     ]
    }
   ],
   "source": [
    "#include <stdio.h>\n",
    "\n",
    "int main(void) {\n",
    "    int x = 2; \n",
    "    int *p_x = &x;\n",
    "    \n",
    "    printf(\"The value p_x points to is %d. \\n\", *p_x); \n",
    "    printf(\"The address of x (equivalently, the value of p_x itself) is %d.\", p_x); \n",
    "}"
   ]
  },
  {
   "cell_type": "markdown",
   "id": "cfe6a82d-982a-48c4-9f0e-9d68594da982",
   "metadata": {},
   "source": [
    "### Worked Example: Switching Two Variables with Pointers"
   ]
  },
  {
   "cell_type": "markdown",
   "id": "009e86bf-9c22-45b7-b952-1d51d2588e9d",
   "metadata": {},
   "source": [
    "*Based on Problem 4.2 in Pitt-Francis and Whiteley*"
   ]
  },
  {
   "cell_type": "markdown",
   "id": "0b7b1dc1-222c-4c74-9c7e-a1079d725a9a",
   "metadata": {},
   "source": [
    "Suppose we have two integers `j` and `k` that have been assigned some values. Our task is to switch these values using pointers. "
   ]
  },
  {
   "cell_type": "code",
   "execution_count": 17,
   "id": "428c5b44-5091-45f9-af05-8affc04559ff",
   "metadata": {},
   "outputs": [
    {
     "name": "stdout",
     "output_type": "stream",
     "text": [
      " Actual result: j = 32, k = -1 \n",
      " Expected result: j = 32, k = -1"
     ]
    }
   ],
   "source": [
    "#include <stdio.h>\n",
    "\n",
    "int main(void) {\n",
    "    /* Initialize two integer vars */\n",
    "    int j = -1;\n",
    "    int k = 32;\n",
    "\n",
    "    /* Make a clone of j's value for later */\n",
    "    const int j_clone = j;\n",
    "\n",
    "    /* Define pointers */\n",
    "    int *p_j = &j, *p_k = &k;\n",
    "\n",
    "    /* Stage 1: Replace j with k using pointers */\n",
    "    *p_j = *p_k;\n",
    "\n",
    "    /* Stage 2: Replace k with original j-value via j_clone */\n",
    "    *p_k = j_clone;\n",
    "\n",
    "    // Check all works as expected.\n",
    "    printf(\" Actual result: j = %d, k = %d \\n \", j, k);\n",
    "    printf(\"Expected result: j = 32, k = -1\");\n",
    "}"
   ]
  },
  {
   "cell_type": "markdown",
   "id": "216542e9-080b-43cc-b3cc-4d45b7aa3355",
   "metadata": {},
   "source": [
    "Fun fact: thanks to the `new` keyword, in C++ the above exercise can be done by introducing an auxiliary `int*` instead of the auxiliary `const int` we called `j_clone`. That is, we can switch using pointers *only*! This illustrates that, even though C++ is an \"offshoot\" of C, the two languages have some nontrivial foundational differences. "
   ]
  },
  {
   "cell_type": "markdown",
   "id": "897d8771-d2f9-4483-9728-43e65f00c7b7",
   "metadata": {},
   "source": [
    "### Arrays"
   ]
  },
  {
   "cell_type": "markdown",
   "id": "79e6c049-0864-4c83-ba82-d403484ed482",
   "metadata": {},
   "source": [
    "I have a hard time conceiving of any scientific computing code that *doesn't* use some version of an \"array\". Those of us who are comfortable in MATLAB or NumPy may take arrays for granted owing to their ubiquity in these settings, and therefore will probably not think much about how arrays are stored in memory. As you probably expected to hear, however, in C the relationship between arrays and memory is essential knowledge.  \n",
    "\n",
    "I'll get the shocking relevation out of the way first: **in C, an array is just a special type of pointer**. An array of length `n` points to the zeroth entry in the array (C uses zero-indexing), and all subsequent array entries are stored consecutively in the next `n-1` chunks of memory. \n",
    "\n",
    "Don't believe me? Check out this code where we initialize an array of length 3, then compare the addresses of its *entries* to the *array* itself. "
   ]
  },
  {
   "cell_type": "code",
   "execution_count": 18,
   "id": "5c425779-dfa3-4a21-b788-37eb2ba42313",
   "metadata": {},
   "outputs": [
    {
     "name": "stdout",
     "output_type": "stream",
     "text": [
      "0 \n",
      "-1976071184 \n",
      "-1976071184 \n",
      "1 \n",
      "-1976071180 \n",
      "-1976071180 \n",
      "2 \n",
      "-1976071176 \n",
      "-1976071176 \n"
     ]
    }
   ],
   "source": [
    "#include <stdio.h>\n",
    "\n",
    "int main(void) {\n",
    "    int a[3] = {0, 1, 2}; /* array length is specificed with [3] here */\n",
    "\n",
    "    for (int k = 0; k < 3; k++) {\n",
    "        printf(\"%d \\n\", a[k]); /* k^th entry */\n",
    "        printf(\"%d \\n\", &a[k]); /* address of k^th entry */\n",
    "        printf(\"%d \\n\", a + k); /* this will also give the address of k^th entry, & convince you arrays are pointers!*/\n",
    "    }\n",
    "}"
   ]
  },
  {
   "cell_type": "markdown",
   "id": "8e71c822-dd77-44b1-90cc-32752ff5c4ab",
   "metadata": {},
   "source": [
    "We've found that `&a[k] = a + k`! In particular, `&a[0] = a`, & you now 100% believe that arrays are just pointers to their zeroth entries.\n",
    "\n",
    "Note that the addresses of `a[0]` and `a[1]` (and `a[1]` and `a[2]`) differ by four. This is because the entries of `a` are of type `int`, and so take up four bytes of memory. If you change the code to make the entries of `a` the `double` type, you'll find that consecutive addresses differ by eight because doubles take up eight bytes. \n",
    "\n",
    "Finally, you should be asking \"why isn't `a + 1` actually outputting the `int` address `a` plus one?\". The answer is that adding one to a pointer takes you to the *next available address*, which depends on the type being pointed too. In light of the discussion of the previous paragraph, then, in the above code block we expect the integer `a + 1` to be `a` plus *four*, and this is indeed what we see. Similarly, adding an `int n` to a pointer takes you `n` memory chunks away. "
   ]
  },
  {
   "cell_type": "markdown",
   "id": "38081c24-d563-4fbd-9bc4-86e47cc517b1",
   "metadata": {},
   "source": [
    "At this point, you know enough to be careful with arrays. Let's try a similar experiment on a two-dimensional array (or matrix). We can think of a 2D array `a` as an \"array whose entries are arrays\", or equivalently as a pointer to a pointer. "
   ]
  },
  {
   "cell_type": "code",
   "execution_count": 19,
   "id": "a1addab6-a0cd-4fa4-9813-3aecfc2c1bd7",
   "metadata": {},
   "outputs": [
    {
     "name": "stdout",
     "output_type": "stream",
     "text": [
      "0 \n",
      "1309031760 \n",
      "1309031760 \n",
      "1 \n",
      "1309031764 \n",
      "1309031764 \n",
      "2 \n",
      "1309031768 \n",
      "1309031768 \n",
      "3 \n",
      "1309031772 \n",
      "1309031772 \n",
      "4 \n",
      "1309031776 \n",
      "1309031776 \n",
      "5 \n",
      "1309031780 \n",
      "1309031780 \n",
      "6 \n",
      "1309031784 \n",
      "1309031784 \n",
      "7 \n",
      "1309031788 \n",
      "1309031788 \n",
      "8 \n",
      "1309031792 \n",
      "1309031792 \n"
     ]
    }
   ],
   "source": [
    "#include <stdio.h>\n",
    "\n",
    "int main(void) {\n",
    "    int a[3][3] = {{0, 1, 2}, {3, 4, 5}, {6, 7, 8}}; /* C does row-first indexing */\n",
    "\n",
    "    for (int j = 0; j < 3; j++) {\n",
    "        for (int k = 0; k < 3; k++) {\n",
    "            printf(\"%d \\n\", a[j][k]);\n",
    "            printf(\"%d \\n\", &a[j][k]);\n",
    "            printf(\"%d \\n\", a[j] + k);\n",
    "        }\n",
    "    }\n",
    "}"
   ]
  },
  {
   "cell_type": "markdown",
   "id": "6d091603-5a71-4319-bc71-c1f9931a383d",
   "metadata": {},
   "source": [
    "Before going further, it's important to note that C stores 2D arrays in memory by unwinding row-wise. That is, the zeroth row is first in memory, then the first row, and so on. As noted in section 1.14 of Shapira, this is important when it comes to efficiency considerations while looping through arrays. "
   ]
  },
  {
   "cell_type": "markdown",
   "id": "71e00a85-1c39-4b66-99fe-3ecc5e04069f",
   "metadata": {},
   "source": [
    "### Worked Example: Pascal's Triangle"
   ]
  },
  {
   "cell_type": "markdown",
   "id": "b773c301-103c-4038-9622-96735b5d10e5",
   "metadata": {},
   "source": [
    "*Adapted from section 1.19 in Shapira*"
   ]
  },
  {
   "cell_type": "markdown",
   "id": "183942dd-e0be-4841-a2ba-b5a65e0c4023",
   "metadata": {},
   "source": [
    "Given an integer $n$, we want to print array giving the top $n\\times n$ slice of Pascal's triangle (if you need a refresher, https://en.wikipedia.org/wiki/Pascal%27s_triangle). We orient our triangle so that the \"1\" at the tip is in the bottom-right corner of the array, necessitating a little bit of care in our `for` loops. "
   ]
  },
  {
   "cell_type": "code",
   "execution_count": 20,
   "id": "f6e3d2de-14f9-47d7-95e1-90ad30ce8920",
   "metadata": {},
   "outputs": [
    {
     "name": "stdout",
     "output_type": "stream",
     "text": [
      "1 3 6 \n",
      "1 2 3 \n",
      "1 1 1 \n"
     ]
    }
   ],
   "source": [
    "#include <stdio.h>\n",
    "\n",
    "int main(void) {\n",
    "\n",
    "    const int n = 3;\n",
    "\n",
    "    int a[n][n];\n",
    "\n",
    "    /* Fill the left col and bottom row with 1's */\n",
    "    for (int i = 0; i < n; i++) {\n",
    "      a[0][i] = a[i][0] = 1;\n",
    "    }\n",
    "\n",
    "    /* Pull existing array elements to form the triangle from the bottom-up */\n",
    "    for (int i = 1; i < n; i++) {\n",
    "      for (int j = 1; j < n; j++) {\n",
    "        a[i][j] = a[i][j-1] + a[i-1][j];\n",
    "      }\n",
    "    }\n",
    "\n",
    "    /* Now we have to print the triangle from the top-down */\n",
    "    for (int i = n - 1; i >= 0; i--) {\n",
    "      for (int j = 0; j < n; j++) {\n",
    "        printf(\"%d \", a[i][j]);\n",
    "        if (j == n-1) {\n",
    "           printf(\"\\n\");\n",
    "        }\n",
    "      }\n",
    "    }\n",
    "}"
   ]
  },
  {
   "cell_type": "markdown",
   "id": "3bab6259-4143-46b5-9205-b1760127dbbe",
   "metadata": {},
   "source": [
    "Admittedly, the formatting of the print looks a little wonky for $n>3$, but the point is to learn the practical mechanics of array construction and manipulation. "
   ]
  },
  {
   "cell_type": "markdown",
   "id": "4d383be0-7d90-47b0-8e00-b7b353e7d5d2",
   "metadata": {},
   "source": [
    "### Recursion"
   ]
  },
  {
   "cell_type": "markdown",
   "id": "fe876c07-083e-4575-afb4-5e88ee1ca9b4",
   "metadata": {},
   "source": [
    "C also supports **recursion**, meaning that a function is allowed to call itself in its definition. Here's an example where we use a naive recursion to compute $j^k$ where $j,k$ are integers. "
   ]
  },
  {
   "cell_type": "code",
   "execution_count": 21,
   "id": "b28f03f9-96ab-4b50-b599-7c22dad050c5",
   "metadata": {},
   "outputs": [
    {
     "name": "stdout",
     "output_type": "stream",
     "text": [
      "2^9 = 512"
     ]
    }
   ],
   "source": [
    "int power(int base, unsigned exp) {\n",
    "    return exp ? base * power(base, exp - 1) : 1;  \n",
    "}\n",
    "\n",
    "#include <stdio.h>\n",
    "\n",
    "int main(void) {\n",
    "    printf(\"2^9 = %d\", power(2, 9));\n",
    "}    "
   ]
  }
 ],
 "metadata": {
  "kernelspec": {
   "display_name": "C",
   "language": "c",
   "name": "c"
  },
  "language_info": {
   "file_extension": ".c",
   "mimetype": "text/plain",
   "name": "c"
  }
 },
 "nbformat": 4,
 "nbformat_minor": 5
}
